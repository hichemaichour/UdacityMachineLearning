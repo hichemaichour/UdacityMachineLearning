{
 "cells": [
  {
   "cell_type": "markdown",
   "metadata": {},
   "source": [
    "# Project 4 - Train a Smartcab to Drive"
   ]
  },
  {
   "cell_type": "markdown",
   "metadata": {},
   "source": [
    "## Implement a Basic Driving Agent"
   ]
  },
  {
   "cell_type": "markdown",
   "metadata": {},
   "source": [
    "To begin, your only task is to get the smartcab to move around in the environment. At this point, you will not be concerned with any sort of optimal driving policy.\n",
    "\n",
    "To complete this task, simply have your driving agent choose a random action from the set of possible actions (None, `'forward'`, `'left'`, `'right'`) at each intersection. Set the simulation deadline enforcement, **`enforce_deadline`** to **`False`** and observe how it performs."
   ]
  },
  {
   "cell_type": "markdown",
   "metadata": {},
   "source": [
    "### Code Snippet:\n",
    "    def random_action(self):\n",
    "        from random import choice\n",
    "        return choice([None, 'forward', 'left', 'right'])"
   ]
  },
  {
   "cell_type": "markdown",
   "metadata": {},
   "source": [
    "### Question 1:"
   ]
  },
  {
   "cell_type": "markdown",
   "metadata": {},
   "source": [
    "**Observe what you see with the agent's behavior as it takes random actions. Does the smartcab eventually make it to the destination? Are there any other interesting observations to note?**"
   ]
  },
  {
   "cell_type": "markdown",
   "metadata": {},
   "source": [
    "1. In almost 65% of the trials, the smartcab eventually makes it to the destination within the hard time limit (-100).\n",
    "2. Other observations that were not mentioned in the problem statement:\n",
    "    1. The agent seems to never reach the destination within the time limit (it always goes to negative time)\n",
    "    2. Environment wrap around itself (East-most connected to West-most, and North-most connected to South-most.)\n",
    "    3. Disobeying traffic lows results in -1 rewards, and the action is not performed\n",
    "    4. Reaching the goal results in +10 rewards\n",
    "    5. Performing a legal move results in either +2 or -0.5 (by looking at the code, I figured it is based on whether the smartcab followed the `next_waypoint` suggestion by the planner or not)\n",
    "    \n",
    "    "
   ]
  },
  {
   "cell_type": "markdown",
   "metadata": {},
   "source": [
    "## Inform the Driving Agent"
   ]
  },
  {
   "cell_type": "markdown",
   "metadata": {},
   "source": [
    "Now that your driving agent is capable of moving around in the environment, your next task is to identify a set of states that are appropriate for modeling the smartcab and environment.\n",
    "\n",
    "The main source of state variables are the current inputs at the intersection, but not all may require representation. You may choose to explicitly define states, or use some combination of inputs as an implicit state.\n",
    "\n",
    "At each time step, process the inputs and update the agent's current state using the `self.state` variable. Continue with the simulation deadline enforcement `enforce_deadline` being set to `False`, and observe how your driving agent now reports the change in state as the simulation progresses."
   ]
  },
  {
   "cell_type": "markdown",
   "metadata": {},
   "source": [
    "### Code Snippet\n",
    "    # TODO: Update state\n",
    "    legal_right = inputs['light'] == 'green' or inputs['left'] != 'forward'\n",
    "    legal_forward = inputs['light'] == 'green'\n",
    "    legal_left = inputs['light'] == 'green' and inputs['oncoming'] != 'right' and inputs['oncoming'] != 'forward'\n",
    "    self.state = {'next_waypoint': self.next_waypoint, \n",
    "                  'legal_right': legal_right, \n",
    "                  'legal_forward': legal_forward, \n",
    "                  'legal_left': legal_left}"
   ]
  },
  {
   "cell_type": "markdown",
   "metadata": {},
   "source": [
    "### Question 2:"
   ]
  },
  {
   "cell_type": "markdown",
   "metadata": {},
   "source": [
    "**What states have you identified that are appropriate for modeling the smartcab and environment? Why do you believe each of these states to be appropriate for this problem?**"
   ]
  },
  {
   "cell_type": "markdown",
   "metadata": {},
   "source": [
    "1. I was able to identify four states that would model the smarcab and the environment:\n",
    "    1. `next_waypoint`: To represent the direction suggested by the planner\n",
    "    2. `legal_right`: To represent whether it is legal to turn right at the intersection\n",
    "    3. `legal_forward`: To represent whether it is legal to keep moving forward at the intersection\n",
    "    4. `legal_left`: To preresent whether it is legal to turn left at the intersection\n",
    "    \n",
    "2. Appropriateness of these states were achieved by:\n",
    "    1. `next_waypoint`: Since the `next_waypoint` affects the reward that would be achieved at each state, it is important to have it as part of our state as a representation of the smartcab planner\n",
    "    2. `legal_right`, `legal_forward`, and `legal_left`: These three variables embed the information received by the sensors of the smartcab. Instead of using sensor data directly (`light`, `right`, `oncoming`, and `left`), these three states allow us to achieve:\n",
    "        1. Reduce the state-space representing the enironment from $2 x 3 x 3 x 3 = 54$ (`Light = ['green', 'red']`, `right = oncoming = left = ['right', 'forward', 'left']`. Note that dummy agents don't have `'None'` as an option) to $2 x 2 x 2 = 8$ (`legal_right = legal_forward = legal_left = [True, False]`)\n",
    "        2. While reducing the state-space, the information needed for the smartcab to make its decision is still preserved. The value of interest behind knowing the sensor data for an intersection is to know whether a right, left, or forward move is legal. These three states keep that information. In fact, they represent this information.\n",
    "        "
   ]
  },
  {
   "cell_type": "markdown",
   "metadata": {},
   "source": [
    "### Question 3:"
   ]
  },
  {
   "cell_type": "markdown",
   "metadata": {},
   "source": [
    "**How many states in total exist for the smartcab in this environment? Does this number seem reasonable given that the goal of Q-Learning is to learn and make informed decisions about each state? Why or why not?**"
   ]
  },
  {
   "cell_type": "markdown",
   "metadata": {},
   "source": [
    "1. Number of states that exist are $2 x 2 x 2 x 3 = 24$ (`legal_right`, `legal_forward`, and `legal_left` have two possible values, `True` and `False`. `next_waypoint` has three possible values, `right`, `forward`, and `left`. Note that the planner doesn't give `None` as an option).\n",
    "\n",
    "2. The number of states seems reasonable for a Q-Learning since it is low enough. These 24 states could easily be traversed several times by running the simulation several times. "
   ]
  },
  {
   "cell_type": "markdown",
   "metadata": {},
   "source": [
    "## Implement a Q-Learning Driving Agent"
   ]
  },
  {
   "cell_type": "markdown",
   "metadata": {},
   "source": [
    "### Question 4:"
   ]
  },
  {
   "cell_type": "markdown",
   "metadata": {},
   "source": [
    "**What changes do you notice in the agent's behavior when compared to the basic driving agent when random actions were always taken? Why is this behavior occurring?**"
   ]
  },
  {
   "cell_type": "markdown",
   "metadata": {},
   "source": []
  },
  {
   "cell_type": "markdown",
   "metadata": {},
   "source": [
    "## Improve the Q-Learning Driving Agent"
   ]
  },
  {
   "cell_type": "markdown",
   "metadata": {},
   "source": [
    "### Question 5:"
   ]
  },
  {
   "cell_type": "markdown",
   "metadata": {},
   "source": [
    "**Report the different values for the parameters tuned in your basic implementation of Q-Learning. For which set of parameters does the agent perform best? How well does the final driving agent perform?**"
   ]
  },
  {
   "cell_type": "markdown",
   "metadata": {},
   "source": []
  },
  {
   "cell_type": "markdown",
   "metadata": {},
   "source": [
    "### Question 6:"
   ]
  },
  {
   "cell_type": "markdown",
   "metadata": {},
   "source": [
    "**Does your agent get close to finding an optimal policy, i.e. reach the destination in the minimum possible time, and not incur any penalties? How would you describe an optimal policy for this problem?**"
   ]
  },
  {
   "cell_type": "markdown",
   "metadata": {},
   "source": []
  }
 ],
 "metadata": {
  "kernelspec": {
   "display_name": "Python 2",
   "language": "python",
   "name": "python2"
  },
  "language_info": {
   "codemirror_mode": {
    "name": "ipython",
    "version": 2
   },
   "file_extension": ".py",
   "mimetype": "text/x-python",
   "name": "python",
   "nbconvert_exporter": "python",
   "pygments_lexer": "ipython2",
   "version": "2.7.11"
  }
 },
 "nbformat": 4,
 "nbformat_minor": 0
}
